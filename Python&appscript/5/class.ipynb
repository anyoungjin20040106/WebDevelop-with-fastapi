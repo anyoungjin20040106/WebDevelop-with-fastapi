{
 "cells": [
  {
   "cell_type": "code",
   "execution_count": null,
   "metadata": {},
   "outputs": [],
   "source": [
    "dva_name='송하나'\n",
    "dva_hp=\"550\"\n",
    "dva_type=\"돌격\"\n",
    "tolbi_name=\"토르비욘\"\n",
    "tolbi_hp=\"200\"\n",
    "tolbi_type=\"공격\""
   ]
  },
  {
   "cell_type": "markdown",
   "metadata": {},
   "source": [
    "# 객체지향 프로그래밍(Class)"
   ]
  },
  {
   "cell_type": "code",
   "execution_count": 1,
   "metadata": {},
   "outputs": [],
   "source": [
    "class Local:\n",
    "    def __init__(self,x=0,y=0):#__init__는 맴버 변수를 설정해주는 함수다(꼭 __init__이어야 할것)\n",
    "        self.x=x#self는 객체 자신을 의미함\n",
    "        self.y=y\n",
    "    def MoveUp(self,speed=1):\n",
    "        self.y+=speed\n",
    "    def MoveDown(self,speed=1):\n",
    "        self.y-=speed\n",
    "    def MoveRight(self,speed=1):\n",
    "        self.x+=speed\n",
    "    def MoveLeft(self,speed=1):\n",
    "        self.x-=speed"
   ]
  },
  {
   "cell_type": "code",
   "execution_count": 3,
   "metadata": {},
   "outputs": [],
   "source": [
    "class Hero:\n",
    "    def __init__(self,name,attack,postion=Local(0,0)):#맴버변수로 객체도 넣을수 있가\n",
    "        self.name=name\n",
    "        self.postion=postion\n",
    "        self.attack=attack\n",
    "    def Attack(self):\n",
    "        print(f\"{self.name}은(는) 적에게 {self.attack}만큼 피해를 주었다\")"
   ]
  },
  {
   "cell_type": "code",
   "execution_count": 7,
   "metadata": {},
   "outputs": [
    {
     "name": "stdout",
     "output_type": "stream",
     "text": [
      "솔져:76은(는) 적에게 100만큼 피해를 주었다\n"
     ]
    }
   ],
   "source": [
    "char1=Hero(\"솔져:76\",100,Local(10,10))\n",
    "char1.Attack()#맴버변수나 메소드를 사용할떄는 객체명.메소드명()혹은 멤버변수명으로 한다"
   ]
  },
  {
   "cell_type": "code",
   "execution_count": 8,
   "metadata": {},
   "outputs": [
    {
     "data": {
      "text/plain": [
       "100"
      ]
     },
     "execution_count": 8,
     "metadata": {},
     "output_type": "execute_result"
    }
   ],
   "source": [
    "char1.attack"
   ]
  },
  {
   "cell_type": "code",
   "execution_count": 9,
   "metadata": {},
   "outputs": [
    {
     "data": {
      "text/plain": [
       "'경복대학교 빅데이터과'"
      ]
     },
     "execution_count": 9,
     "metadata": {},
     "output_type": "execute_result"
    }
   ],
   "source": [
    "\"경북대학교 빅데이터과\".replace(\"북\",\"복\")#문자열도 객체다 replace는 문자열 바꾸극 메서드다"
   ]
  }
 ],
 "metadata": {
  "kernelspec": {
   "display_name": "Python 3",
   "language": "python",
   "name": "python3"
  },
  "language_info": {
   "codemirror_mode": {
    "name": "ipython",
    "version": 3
   },
   "file_extension": ".py",
   "mimetype": "text/x-python",
   "name": "python",
   "nbconvert_exporter": "python",
   "pygments_lexer": "ipython3",
   "version": "3.12.3"
  }
 },
 "nbformat": 4,
 "nbformat_minor": 2
}
