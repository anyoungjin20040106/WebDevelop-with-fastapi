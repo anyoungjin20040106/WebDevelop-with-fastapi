{
 "cells": [
  {
   "cell_type": "code",
   "execution_count": null,
   "metadata": {},
   "outputs": [],
   "source": [
    "dva_name='송하나'\n",
    "dva_hp=\"550\"\n",
    "dva_type=\"돌격\"\n",
    "tolbi_name=\"토르비욘\"\n",
    "tolbi_hp=\"200\"\n",
    "tolbi_type=\"공격\""
   ]
  },
  {
   "cell_type": "markdown",
   "metadata": {},
   "source": [
    "# 객체지향 프로그래밍(Class)"
   ]
  },
  {
   "cell_type": "code",
   "execution_count": 7,
   "metadata": {},
   "outputs": [],
   "source": [
    "class Local:\n",
    "    def __init__(self,x=0,y=0):#__init__는 맴버 변수를 설정해주는 함수(메서드,메소드)다(꼭 __init__이어야 할것)\n",
    "        self.x=x#self는 객체 자신을 의미함\n",
    "        self.y=y\n",
    "    def MoveUp(self,speed=1):\n",
    "        self.y+=speed\n",
    "    def MoveDown(self,speed=1):\n",
    "        self.y-=speed\n",
    "    def MoveRight(self,speed=1):\n",
    "        self.x+=speed\n",
    "    def MoveLeft(self,speed=1):\n",
    "        self.x-=speed"
   ]
  },
  {
   "cell_type": "code",
   "execution_count": 8,
   "metadata": {},
   "outputs": [],
   "source": [
    "class Hero:\n",
    "    def __init__(self,name,attack,postion=Local()):#맴버변수로 객체도 넣을수 있가\n",
    "        self.name=name\n",
    "        self.postion=postion\n",
    "        self.attack=attack\n",
    "    def Attack(self):\n",
    "        print(f\"{self.name}은(는) 적에게 {self.attack}만큼 피해를 주었다\")"
   ]
  },
  {
   "cell_type": "code",
   "execution_count": 9,
   "metadata": {},
   "outputs": [
    {
     "name": "stdout",
     "output_type": "stream",
     "text": [
      "솔져:76은(는) 적에게 100만큼 피해를 주었다\n"
     ]
    }
   ],
   "source": [
    "char1=Hero(attack=100,name=\"솔져:76\",postion=Local(10,10))\n",
    "char1.Attack()#맴버변수나 메소드를 사용할떄는 객체명.메소드명()혹은 멤버변수명으로 한다"
   ]
  },
  {
   "cell_type": "code",
   "execution_count": 10,
   "metadata": {},
   "outputs": [
    {
     "name": "stdout",
     "output_type": "stream",
     "text": [
      "디바은(는) 적에게 20만큼 피해를 주었다\n"
     ]
    }
   ],
   "source": [
    "char2=Hero(attack=20,name=\"디바\",postion=Local(10,10))\n",
    "char2.Attack()#맴버변수나 메소드를 사용할떄는 객체명.메소드명()혹은 멤버변수명으로 한다"
   ]
  },
  {
   "cell_type": "code",
   "execution_count": 11,
   "metadata": {},
   "outputs": [
    {
     "data": {
      "text/plain": [
       "100"
      ]
     },
     "execution_count": 11,
     "metadata": {},
     "output_type": "execute_result"
    }
   ],
   "source": [
    "char1.attack"
   ]
  },
  {
   "cell_type": "markdown",
   "metadata": {},
   "source": [
    "# 문자열도 객체다 replace는 문자열 바꾸는 메서드다"
   ]
  },
  {
   "cell_type": "code",
   "execution_count": 12,
   "metadata": {},
   "outputs": [
    {
     "data": {
      "text/plain": [
       "'경복대학교 빅데이터과'"
      ]
     },
     "execution_count": 12,
     "metadata": {},
     "output_type": "execute_result"
    }
   ],
   "source": [
    "\"경북대학교 빅데이터과\".replace(\"북\",\"복\")"
   ]
  },
  {
   "cell_type": "code",
   "execution_count": 14,
   "metadata": {},
   "outputs": [],
   "source": [
    "class Shape:#도형클래스 w는 가로고 h는 세로다\n",
    "    def __init__(self,w,h):\n",
    "        self.w=w\n",
    "        self.h=h\n",
    "class fourgaghyeong(Shape):#사각형을 의미하는 클래스 Shape에게 상속을 받았다\n",
    "    def __init__(self, w, h):\n",
    "        super().__init__(w, h)#부모클래스의 __init__메소드를 쓸수 있다\n",
    "    @property#메소드를 멤버변수처럼 쓰게 만드는 기능을 가진 프로퍼티다\n",
    "    def area(self):\n",
    "        return self.w*self.h\n",
    "class threegaghyeong(Shape):#삼각형을 의미하는 클래스 Shape에게 상속을 받았다\n",
    "    def __init__(self, w, h):\n",
    "        super().__init__(w, h)#부모클래스의 __init__메소드를 쓸수 있다\n",
    "    @property#메소드를 멤버변수처럼 쓰게 만드는 기능을 가진 프로퍼티다\n",
    "    def area(self):\n",
    "        return self.w*self.h*0.5"
   ]
  },
  {
   "cell_type": "code",
   "execution_count": 15,
   "metadata": {},
   "outputs": [
    {
     "data": {
      "text/plain": [
       "25"
      ]
     },
     "execution_count": 15,
     "metadata": {},
     "output_type": "execute_result"
    }
   ],
   "source": [
    "f=fourgaghyeong(5,5)\n",
    "f.area"
   ]
  },
  {
   "cell_type": "code",
   "execution_count": 16,
   "metadata": {},
   "outputs": [
    {
     "data": {
      "text/plain": [
       "5"
      ]
     },
     "execution_count": 16,
     "metadata": {},
     "output_type": "execute_result"
    }
   ],
   "source": [
    "f.w#사각형은 도형의 자식으므로 도형의 멤버변수와 메서드를 쓸수있다"
   ]
  },
  {
   "cell_type": "code",
   "execution_count": 17,
   "metadata": {},
   "outputs": [
    {
     "data": {
      "text/plain": [
       "12.5"
      ]
     },
     "execution_count": 17,
     "metadata": {},
     "output_type": "execute_result"
    }
   ],
   "source": [
    "t=threegaghyeong(5,5)\n",
    "t.area"
   ]
  },
  {
   "cell_type": "code",
   "execution_count": 18,
   "metadata": {},
   "outputs": [
    {
     "ename": "AttributeError",
     "evalue": "property 'area' of 'threegaghyeong' object has no setter",
     "output_type": "error",
     "traceback": [
      "\u001b[1;31m---------------------------------------------------------------------------\u001b[0m",
      "\u001b[1;31mAttributeError\u001b[0m                            Traceback (most recent call last)",
      "Cell \u001b[1;32mIn[18], line 1\u001b[0m\n\u001b[1;32m----> 1\u001b[0m \u001b[43mt\u001b[49m\u001b[38;5;241;43m.\u001b[39;49m\u001b[43marea\u001b[49m\u001b[38;5;241m=\u001b[39m\u001b[38;5;241m5\u001b[39m\n\u001b[0;32m      2\u001b[0m \u001b[38;5;66;03m#area는 맴버변수가 아니라 메소드를 맴버변수처럼 쓸수있는 프로퍼티라서 대입은 안된다\u001b[39;00m\n",
      "\u001b[1;31mAttributeError\u001b[0m: property 'area' of 'threegaghyeong' object has no setter"
     ]
    }
   ],
   "source": [
    "t.area=5\n",
    "#area는 맴버변수가 아니라 메소드를 맴버변수처럼 쓸수있는 프로퍼티라서 대입은 안된다"
   ]
  },
  {
   "cell_type": "markdown",
   "metadata": {},
   "source": [
    "# 클래스 가지고 놀아\n",
    "<ol>\n",
    "<li>숫자클래스 만들기 맴버변수는 숫자를담는 변수고 x의 배수인지 확인하는 메서드와 홀수 짝수를 판단하는 프로퍼티를 만든다\n",
    "<li>사람클래스 만들기 맴버변수는 이름 태어난 연도, 태어난 월, 태어난 일, 성별을 하고 프로퍼티로 주민등록번호와 띠(ex 양띠), 나이로 한다\n",
    "</ol>"
   ]
  },
  {
   "cell_type": "code",
   "execution_count": 19,
   "metadata": {},
   "outputs": [],
   "source": [
    "class Number:\n",
    "    def __init__(self,num):\n",
    "        self.num=num\n",
    "    def isBesu(self,num):\n",
    "        return self.num%num==0\n",
    "    @property\n",
    "    def isOdd(self):\n",
    "        pass\n",
    "class Person:\n",
    "    def __init__(self,name,year,month,day,sex):\n",
    "        self.name=name#str(문자열)\n",
    "        self.year=year#int(정수)\n",
    "        self.month=month#int(정수)\n",
    "        self.day=day#int(정수)\n",
    "        self.sex=sex#boolean(true가 남자, fasle가 여자)\n",
    "    @property\n",
    "    def animalYear(self):#띠\n",
    "        pass\n",
    "    @property\n",
    "    def age(self):#나이\n",
    "        pass"
   ]
  }
 ],
 "metadata": {
  "kernelspec": {
   "display_name": "Python 3",
   "language": "python",
   "name": "python3"
  },
  "language_info": {
   "codemirror_mode": {
    "name": "ipython",
    "version": 3
   },
   "file_extension": ".py",
   "mimetype": "text/x-python",
   "name": "python",
   "nbconvert_exporter": "python",
   "pygments_lexer": "ipython3",
   "version": "3.12.3"
  }
 },
 "nbformat": 4,
 "nbformat_minor": 2
}
