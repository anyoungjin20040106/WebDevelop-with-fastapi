{
 "cells": [
  {
   "cell_type": "markdown",
   "metadata": {},
   "source": [
    "# 반복문의 형태"
   ]
  },
  {
   "cell_type": "code",
   "execution_count": null,
   "metadata": {},
   "outputs": [],
   "source": [
    "while 조건:\n",
    "    조건이 참일 떄 반복 하기"
   ]
  },
  {
   "cell_type": "markdown",
   "metadata": {},
   "source": [
    "# 예시)1부터 x까지 더하는 프로그램"
   ]
  },
  {
   "cell_type": "code",
   "execution_count": 1,
   "metadata": {},
   "outputs": [
    {
     "data": {
      "text/plain": [
       "'1부터 100까지의 합 5050'"
      ]
     },
     "execution_count": 1,
     "metadata": {},
     "output_type": "execute_result"
    }
   ],
   "source": [
    "s=0\n",
    "i=1\n",
    "while i<=100:\n",
    "    s+=i\n",
    "    i+=1\n",
    "f'1부터 100까지의 합 {s}'"
   ]
  },
  {
   "cell_type": "markdown",
   "metadata": {},
   "source": [
    "# print() 사용법"
   ]
  },
  {
   "cell_type": "code",
   "execution_count": 4,
   "metadata": {},
   "outputs": [
    {
     "name": "stdout",
     "output_type": "stream",
     "text": [
      "num의 값 : 0\n",
      "0\n",
      "num의 값 : 1\n",
      "1\n",
      "num의 값 : 2\n",
      "2\n",
      "num의 값 : 3\n",
      "3\n",
      "num의 값 : 4\n",
      "4\n",
      "num의 값 : 5\n",
      "5\n"
     ]
    }
   ],
   "source": [
    "num=0\n",
    "while num<=5:\n",
    "    print(f\"num의 값 : {num}\")\n",
    "    print(num)\n",
    "    num+=1"
   ]
  },
  {
   "cell_type": "markdown",
   "metadata": {},
   "source": [
    "# 구구단표 만들기"
   ]
  },
  {
   "cell_type": "code",
   "execution_count": 22,
   "metadata": {},
   "outputs": [
    {
     "name": "stdout",
     "output_type": "stream",
     "text": [
      "629*1=629\n",
      "629*2=1258\n",
      "629*3=1887\n",
      "629*4=2516\n",
      "629*5=3145\n",
      "629*6=3774\n",
      "629*7=4403\n",
      "629*8=5032\n",
      "629*9=5661\n"
     ]
    }
   ],
   "source": [
    "num=int(input(\"몇단?\"))\n",
    "col=1\n",
    "while col<10:\n",
    "    print(f\"{num}*{col}={num*col}\")\n",
    "    col+=1"
   ]
  },
  {
   "cell_type": "markdown",
   "metadata": {},
   "source": [
    "# break"
   ]
  },
  {
   "cell_type": "markdown",
   "metadata": {},
   "source": [
    "## 입력한 수 더하기"
   ]
  },
  {
   "cell_type": "code",
   "execution_count": 23,
   "metadata": {},
   "outputs": [
    {
     "name": "stdout",
     "output_type": "stream",
     "text": [
      "프로그램을 종료하겠습니다.\n"
     ]
    },
    {
     "data": {
      "text/plain": [
       "'결과 : 36'"
      ]
     },
     "execution_count": 23,
     "metadata": {},
     "output_type": "execute_result"
    }
   ],
   "source": [
    "result=0\n",
    "while True:\n",
    "    num=int(input(\"더할 숫자를 입력해주세요(0입력시 종료)\"))\n",
    "    if bool(num):#0이 아닌 숫자는 boolean으로 True\n",
    "        result+=num\n",
    "    else:\n",
    "        print('프로그램을 종료하겠습니다.')\n",
    "        break\n",
    "f\"결과 : {result}\""
   ]
  },
  {
   "cell_type": "markdown",
   "metadata": {},
   "source": [
    "# 과제\n",
    "## $$2x+3y=200$$ 일때 x와 y가 정수로 나오는 경우를 구하여라(단 x는 2이상이며 최소값이여야한다)"
   ]
  }
 ],
 "metadata": {
  "kernelspec": {
   "display_name": "Python 3",
   "language": "python",
   "name": "python3"
  },
  "language_info": {
   "codemirror_mode": {
    "name": "ipython",
    "version": 3
   },
   "file_extension": ".py",
   "mimetype": "text/x-python",
   "name": "python",
   "nbconvert_exporter": "python",
   "pygments_lexer": "ipython3",
   "version": "3.12.3"
  }
 },
 "nbformat": 4,
 "nbformat_minor": 2
}
