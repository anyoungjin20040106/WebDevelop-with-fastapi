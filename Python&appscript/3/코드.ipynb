{
 "cells": [
  {
   "cell_type": "markdown",
   "metadata": {},
   "source": [
    "# 반복문의 형태"
   ]
  },
  {
   "cell_type": "code",
   "execution_count": null,
   "metadata": {},
   "outputs": [],
   "source": [
    "while 조건:\n",
    "    조건이 참일 떄 반복 하기"
   ]
  },
  {
   "cell_type": "markdown",
   "metadata": {},
   "source": [
    "# 예시)1부터 x까지 더하는 프로그램"
   ]
  },
  {
   "cell_type": "code",
   "execution_count": 1,
   "metadata": {},
   "outputs": [
    {
     "data": {
      "text/plain": [
       "'1부터 100까지의 합 5050'"
      ]
     },
     "execution_count": 1,
     "metadata": {},
     "output_type": "execute_result"
    }
   ],
   "source": [
    "s=0\n",
    "i=1\n",
    "while i<=100:\n",
    "    s+=i\n",
    "    i+=1\n",
    "f'1부터 100까지의 합 {s}'"
   ]
  },
  {
   "cell_type": "markdown",
   "metadata": {},
   "source": [
    "# print() 사용법"
   ]
  },
  {
   "cell_type": "code",
   "execution_count": 4,
   "metadata": {},
   "outputs": [
    {
     "name": "stdout",
     "output_type": "stream",
     "text": [
      "num의 값 : 0\n",
      "0\n",
      "num의 값 : 1\n",
      "1\n",
      "num의 값 : 2\n",
      "2\n",
      "num의 값 : 3\n",
      "3\n",
      "num의 값 : 4\n",
      "4\n",
      "num의 값 : 5\n",
      "5\n"
     ]
    }
   ],
   "source": [
    "num=0\n",
    "while num<=5:\n",
    "    print(f\"num의 값 : {num}\")\n",
    "    print(num)\n",
    "    num+=1"
   ]
  },
  {
   "cell_type": "markdown",
   "metadata": {},
   "source": [
    "# break"
   ]
  },
  {
   "cell_type": "markdown",
   "metadata": {},
   "source": [
    "## $$2x+3y=200$$ 일때 x와 y가 정수로 나오는 경우를 구하여라(단 x는 2이상이며 최소값이여야한다)"
   ]
  },
  {
   "cell_type": "code",
   "execution_count": 11,
   "metadata": {},
   "outputs": [
    {
     "data": {
      "text/plain": [
       "(4, 64)"
      ]
     },
     "execution_count": 11,
     "metadata": {},
     "output_type": "execute_result"
    }
   ],
   "source": [
    "x=2\n",
    "isSuccess=False\n",
    "while True:\n",
    "    y=0\n",
    "    while 2*x+3*y<=200:\n",
    "        if 2*x+3*y==200:\n",
    "            isSuccess=True\n",
    "            break#break는 건너뛰기 키워드다\n",
    "        y+=1\n",
    "    if isSuccess:\n",
    "        break\n",
    "    else:\n",
    "        x+=1\n",
    "x,y"
   ]
  },
  {
   "cell_type": "markdown",
   "metadata": {},
   "source": [
    "\n",
    "\\begin{cases}\n",
    "x \\leq y \\\\\n",
    "x^2 + 100y = 223\n",
    "\\end{cases}"
   ]
  },
  {
   "cell_type": "code",
   "execution_count": 17,
   "metadata": {},
   "outputs": [
    {
     "ename": "KeyboardInterrupt",
     "evalue": "",
     "output_type": "error",
     "traceback": [
      "\u001b[1;31m---------------------------------------------------------------------------\u001b[0m",
      "\u001b[1;31mKeyboardInterrupt\u001b[0m                         Traceback (most recent call last)",
      "Cell \u001b[1;32mIn[17], line 3\u001b[0m\n\u001b[0;32m      1\u001b[0m x\u001b[38;5;241m=\u001b[39m\u001b[38;5;241m1\u001b[39m\n\u001b[0;32m      2\u001b[0m isSuccess\u001b[38;5;241m=\u001b[39m\u001b[38;5;28;01mFalse\u001b[39;00m\n\u001b[1;32m----> 3\u001b[0m \u001b[38;5;28;01mwhile\u001b[39;00m \u001b[38;5;28;01mTrue\u001b[39;00m:\n\u001b[0;32m      4\u001b[0m     y\u001b[38;5;241m=\u001b[39m\u001b[38;5;241m0\u001b[39m\n\u001b[0;32m      5\u001b[0m     \u001b[38;5;28;01mwhile\u001b[39;00m x\u001b[38;5;241m<\u001b[39m\u001b[38;5;241m=\u001b[39my:\n",
      "\u001b[1;31mKeyboardInterrupt\u001b[0m: "
     ]
    }
   ],
   "source": [
    "x=1\n",
    "isSuccess=False\n",
    "while True:\n",
    "    y=0\n",
    "    while x<=y:\n",
    "        print(f\"{x}+{y}={x+y}\")\n",
    "        if x**2+100*y==500:\n",
    "            isSuccess=True\n",
    "            break\n",
    "        y+=1\n",
    "    if isSuccess:\n",
    "        break\n",
    "    else:\n",
    "        x+=1\n",
    "x,y"
   ]
  }
 ],
 "metadata": {
  "kernelspec": {
   "display_name": "Python 3",
   "language": "python",
   "name": "python3"
  },
  "language_info": {
   "codemirror_mode": {
    "name": "ipython",
    "version": 3
   },
   "file_extension": ".py",
   "mimetype": "text/x-python",
   "name": "python",
   "nbconvert_exporter": "python",
   "pygments_lexer": "ipython3",
   "version": "3.12.3"
  }
 },
 "nbformat": 4,
 "nbformat_minor": 2
}
