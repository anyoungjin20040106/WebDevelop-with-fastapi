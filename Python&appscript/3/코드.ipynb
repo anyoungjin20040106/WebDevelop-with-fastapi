{
 "cells": [
  {
   "cell_type": "markdown",
   "metadata": {},
   "source": [
    "# 반복문의 형태"
   ]
  },
  {
   "cell_type": "code",
   "execution_count": null,
   "metadata": {},
   "outputs": [],
   "source": [
    "while 조건:\n",
    "조건이     참일 떄 반복 하기"
   ]
  },
  {
   "cell_type": "markdown",
   "metadata": {},
   "source": [
    "# 예시)1부터 x까지 더하는 프로그램"
   ]
  },
  {
   "cell_type": "code",
   "execution_count": 1,
   "metadata": {},
   "outputs": [
    {
     "data": {
      "text/plain": [
       "'1부터 100까지의 합 5050'"
      ]
     },
     "execution_count": 1,
     "metadata": {},
     "output_type": "execute_result"
    }
   ],
   "source": [
    "s=0\n",
    "i=1\n",
    "while i<=100:\n",
    "    s+=i\n",
    "    i+=1\n",
    "f'1부터 100까지의 합 {s}'"
   ]
  },
  {
   "cell_type": "markdown",
   "metadata": {},
   "source": [
    "# print() 사용법"
   ]
  },
  {
   "cell_type": "code",
   "execution_count": 9,
   "metadata": {},
   "outputs": [
    {
     "name": "stdout",
     "output_type": "stream",
     "text": [
      "num의 값 : 0\n",
      "0\n",
      "num의 값 : 1\n",
      "1\n",
      "num의 값 : 2\n",
      "2\n",
      "num의 값 : 3\n",
      "3\n",
      "num의 값 : 4\n",
      "4\n",
      "num의 값 : 5\n",
      "5\n"
     ]
    }
   ],
   "source": [
    "num=0\n",
    "while num<=5:\n",
    "    print(f\"num의 값 : {num}\")\n",
    "    print(num)\n",
    "    num+=1"
   ]
  },
  {
   "cell_type": "markdown",
   "metadata": {},
   "source": [
    "# 구구단표 만들기"
   ]
  },
  {
   "cell_type": "code",
   "execution_count": 8,
   "metadata": {},
   "outputs": [
    {
     "name": "stdout",
     "output_type": "stream",
     "text": [
      "5*1=5\n",
      "5*2=10\n",
      "5*3=15\n",
      "5*4=20\n",
      "5*5=25\n",
      "5*6=30\n",
      "5*7=35\n",
      "5*8=40\n",
      "5*9=45\n"
     ]
    }
   ],
   "source": [
    "num=input(\"몇단?\")\n",
    "num=int(num)\n",
    "col=1\n",
    "while col<10:\n",
    "    print(f\"{num}*{col}={num*col}\")\n",
    "    col+=1"
   ]
  },
  {
   "cell_type": "markdown",
   "metadata": {},
   "source": [
    "# break"
   ]
  },
  {
   "cell_type": "markdown",
   "metadata": {},
   "source": [
    "## 입력한 수 더하기"
   ]
  },
  {
   "cell_type": "code",
   "execution_count": 12,
   "metadata": {},
   "outputs": [
    {
     "name": "stdout",
     "output_type": "stream",
     "text": [
      "프로그램을 종료하겠습니다.\n"
     ]
    },
    {
     "data": {
      "text/plain": [
       "'결과 : 23'"
      ]
     },
     "execution_count": 12,
     "metadata": {},
     "output_type": "execute_result"
    }
   ],
   "source": [
    "result=0\n",
    "while True:\n",
    "    num=int(input(\"더할 숫자를 입력해주세요(0입력시 종료)\"))\n",
    "    if num!=0:\n",
    "        result+=num\n",
    "    else:\n",
    "        print('프로그램을 종료하겠습니다.')\n",
    "        break\n",
    "f\"결과 : {result}\""
   ]
  },
  {
   "cell_type": "markdown",
   "metadata": {},
   "source": [
    "# 과제\n",
    "## $$2x+3y=200$$ 일때 x와 y가 정수로 나오는 경우를 구하여라(단 x는 2이상이며 최소값이여야한다)"
   ]
  },
  {
   "cell_type": "markdown",
   "metadata": {},
   "source": [
    "# issucces\n",
    "<ol>\n",
    "<li>x에다가 2를 대입한다</li>\n",
    "<li>값을 찾았는지 확인하는 변수에다가 False를 대입한다</li>\n",
    "<li>무한반복한다</li>\n",
    "<li>y에다가 0을 대입한다</li>\n",
    "<li>2x+3y가 200보다 클때까지 반복한다</li>\n",
    "<li>만약 2x+3y=200이면 값을 찾았는지 확인하는 변수에다가 True를 대입하고 반복문을 빠져 나간다</li>\n",
    "<li>만약 값을 찾았는지 확인하는 변수가 True면 빠져나가고 아니면 반복한다</li>\n",
    "</ol>"
   ]
  },
  {
   "cell_type": "markdown",
   "metadata": {},
   "source": [
    "# 1부터 1357923까지의 곱을 구하여라"
   ]
  },
  {
   "cell_type": "code",
   "execution_count": 16,
   "metadata": {},
   "outputs": [
    {
     "data": {
      "text/plain": [
       "'1부터 500까지의 곱 1220136825991110068701238785423046926253574342803192842192413588385845373153881997605496447502203281863013616477148203584163378722078177200480785205159329285477907571939330603772960859086270429174547882424912726344305670173270769461062802310452644218878789465754777149863494367781037644274033827365397471386477878495438489595537537990423241061271326984327745715546309977202781014561081188373709531016356324432987029563896628911658974769572087926928871281780070265174507768410719624390394322536422605234945850129918571501248706961568141625359056693423813008856249246891564126775654481886506593847951775360894005745238940335798476363944905313062323749066445048824665075946735862074637925184200459369692981022263971952597190945217823331756934581508552332820762820023402626907898342451712006207714640979456116127629145951237229913340169552363850942885592018727433795173014586357570828355780158735432768888680120399882384702151467605445407663535984174430480128938313896881639487469658817504506926365338175055478128640000000000000000000000000000000000000000000000000000000000000000000000000000000000000000000000000000000000000000000000000000'"
      ]
     },
     "execution_count": 16,
     "metadata": {},
     "output_type": "execute_result"
    }
   ],
   "source": [
    "s=1\n",
    "i=1\n",
    "while i<=500:\n",
    "    s*=i\n",
    "    i+=1\n",
    "f'1부터 500까지의 곱 {s}'"
   ]
  }
 ],
 "metadata": {
  "kernelspec": {
   "display_name": "Python 3",
   "language": "python",
   "name": "python3"
  },
  "language_info": {
   "codemirror_mode": {
    "name": "ipython",
    "version": 3
   },
   "file_extension": ".py",
   "mimetype": "text/x-python",
   "name": "python",
   "nbconvert_exporter": "python",
   "pygments_lexer": "ipython3",
   "version": "3.12.3"
  }
 },
 "nbformat": 4,
 "nbformat_minor": 2
}
