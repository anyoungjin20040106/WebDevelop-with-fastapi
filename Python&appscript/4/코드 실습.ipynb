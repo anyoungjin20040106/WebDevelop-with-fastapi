{
 "cells": [
  {
   "cell_type": "markdown",
   "metadata": {},
   "source": [
    "# 함수기초"
   ]
  },
  {
   "cell_type": "code",
   "execution_count": 1,
   "metadata": {},
   "outputs": [],
   "source": [
    "#인수만 있는 함수\n",
    "def HelloFuncton(name):\n",
    "    print(f\"안녕하세요 {name}님\")\n",
    "#반환값만 있는 함수\n",
    "def GetPi():\n",
    "    return 3.14159265358979\n",
    "#인수, 반환값만 있는 함수\n",
    "def GetC(a,b):\n",
    "    return (a**2+b**2)**0.5\n",
    "#둘다 없는 함수\n",
    "def DragonSword():\n",
    "    print(\"류승룡 기모찌\")\n",
    "#1부터 num까지의 합을 구하는 함수\n",
    "def sum(num):\n",
    "    result=0\n",
    "    count=0\n",
    "    while count<=num:\n",
    "        result+=count\n",
    "        count+=1\n",
    "    return result"
   ]
  },
  {
   "cell_type": "code",
   "execution_count": 2,
   "metadata": {},
   "outputs": [
    {
     "name": "stdout",
     "output_type": "stream",
     "text": [
      "안녕하세요 안영진님\n"
     ]
    }
   ],
   "source": [
    "HelloFuncton(\"안영진\")"
   ]
  },
  {
   "cell_type": "code",
   "execution_count": 3,
   "metadata": {},
   "outputs": [
    {
     "data": {
      "text/plain": [
       "314.159265358979"
      ]
     },
     "execution_count": 3,
     "metadata": {},
     "output_type": "execute_result"
    }
   ],
   "source": [
    "r=10\n",
    "area=r**2*GetPi()\n",
    "area"
   ]
  },
  {
   "cell_type": "code",
   "execution_count": 4,
   "metadata": {},
   "outputs": [
    {
     "data": {
      "text/plain": [
       "'10제곱 더하기 20제곱은 22.360679774997898제곱이다'"
      ]
     },
     "execution_count": 4,
     "metadata": {},
     "output_type": "execute_result"
    }
   ],
   "source": [
    "a=10\n",
    "b=20\n",
    "c=GetC(a,b)\n",
    "f\"{a}제곱 더하기 {b}제곱은 {c}제곱이다\""
   ]
  },
  {
   "cell_type": "code",
   "execution_count": 5,
   "metadata": {},
   "outputs": [
    {
     "name": "stdout",
     "output_type": "stream",
     "text": [
      "류승룡 기모찌\n"
     ]
    }
   ],
   "source": [
    "DragonSword()"
   ]
  },
  {
   "cell_type": "code",
   "execution_count": 6,
   "metadata": {},
   "outputs": [
    {
     "data": {
      "text/plain": [
       "'1부터 100까지의 합 : 5050'"
      ]
     },
     "execution_count": 6,
     "metadata": {},
     "output_type": "execute_result"
    }
   ],
   "source": [
    "f\"1부터 100까지의 합 : {sum(100)}\""
   ]
  },
  {
   "cell_type": "markdown",
   "metadata": {},
   "source": [
    "# 홀수와 짝수를 변환하는 함수를 만들어 보자\n",
    "힌트 : 짝수는 2로 나눈 나머지가 0이고 홀수는 2로 나눈 나머지가 1이다<br>\n",
    "힌트 : 0은 boolean으로 변환하면 fasle고 그외 숫자는 boolean으로 변환하면 true다<br>\n",
    "힌트 : 홀수일떄 반환값은 \"홀수\"고 짝수일때 반환값은 \"짝수\"다<br>\n",
    "힌트 : 함수명은 마음대로지만 정하기 힘들면 print_odd_even이라고 짓자<br>"
   ]
  },
  {
   "cell_type": "markdown",
   "metadata": {},
   "source": [
    "# 함수안에 함수넣기\n",
    "# $$f(g(x))$$"
   ]
  },
  {
   "cell_type": "code",
   "execution_count": 6,
   "metadata": {},
   "outputs": [],
   "source": [
    "#1부터 num까지의 합을 구하는 함수\n",
    "def sum(num):\n",
    "    result=0\n",
    "    count=0\n",
    "    while count<=num:\n",
    "        result+=count\n",
    "        count+=1\n",
    "    return result\n",
    "#나누기 함수\n",
    "def div(num1,num2):\n",
    "    return num1/num2"
   ]
  },
  {
   "cell_type": "code",
   "execution_count": 7,
   "metadata": {},
   "outputs": [
    {
     "data": {
      "text/plain": [
       "50.5"
      ]
     },
     "execution_count": 7,
     "metadata": {},
     "output_type": "execute_result"
    }
   ],
   "source": [
    "num=100\n",
    "div(sum(num),num)"
   ]
  },
  {
   "cell_type": "code",
   "execution_count": null,
   "metadata": {},
   "outputs": [],
   "source": [
    "int(input())"
   ]
  },
  {
   "cell_type": "markdown",
   "metadata": {},
   "source": [
    "# 인자 기본값"
   ]
  },
  {
   "cell_type": "code",
   "execution_count": 8,
   "metadata": {},
   "outputs": [],
   "source": [
    "def info(name1, name2, friendship=\"가족\"):\n",
    "    print(f\"{name1}과 {name2}는 {friendship} 관계\")"
   ]
  },
  {
   "cell_type": "code",
   "execution_count": 9,
   "metadata": {},
   "outputs": [
    {
     "name": "stdout",
     "output_type": "stream",
     "text": [
      "쿠파과 쿠파주니어는 가족 관계\n",
      "마리오과 피치는 연인 관계\n"
     ]
    }
   ],
   "source": [
    "info(\"쿠파\",\"쿠파주니어\")\n",
    "info(\"마리오\",\"피치\",\"연인\")"
   ]
  },
  {
   "cell_type": "code",
   "execution_count": 10,
   "metadata": {},
   "outputs": [
    {
     "name": "stdout",
     "output_type": "stream",
     "text": [
      "마리오과 피치는 연인 관계\n"
     ]
    }
   ],
   "source": [
    "info(friendship=\"연인\",name2=\"피치\",name1=\"마리오\")"
   ]
  },
  {
   "cell_type": "code",
   "execution_count": 11,
   "metadata": {},
   "outputs": [
    {
     "ename": "TypeError",
     "evalue": "info() missing 1 required positional argument: 'name1'",
     "output_type": "error",
     "traceback": [
      "\u001b[1;31m---------------------------------------------------------------------------\u001b[0m",
      "\u001b[1;31mTypeError\u001b[0m                                 Traceback (most recent call last)",
      "Cell \u001b[1;32mIn[11], line 1\u001b[0m\n\u001b[1;32m----> 1\u001b[0m \u001b[43minfo\u001b[49m\u001b[43m(\u001b[49m\u001b[43mname2\u001b[49m\u001b[38;5;241;43m=\u001b[39;49m\u001b[38;5;124;43m\"\u001b[39;49m\u001b[38;5;124;43m쿠파주니어\u001b[39;49m\u001b[38;5;124;43m\"\u001b[39;49m\u001b[43m)\u001b[49m\n",
      "\u001b[1;31mTypeError\u001b[0m: info() missing 1 required positional argument: 'name1'"
     ]
    }
   ],
   "source": [
    "info(name2=\"쿠파주니어\")"
   ]
  }
 ],
 "metadata": {
  "kernelspec": {
   "display_name": "Python 3",
   "language": "python",
   "name": "python3"
  },
  "language_info": {
   "codemirror_mode": {
    "name": "ipython",
    "version": 3
   },
   "file_extension": ".py",
   "mimetype": "text/x-python",
   "name": "python",
   "nbconvert_exporter": "python",
   "pygments_lexer": "ipython3",
   "version": "3.12.3"
  }
 },
 "nbformat": 4,
 "nbformat_minor": 2
}
