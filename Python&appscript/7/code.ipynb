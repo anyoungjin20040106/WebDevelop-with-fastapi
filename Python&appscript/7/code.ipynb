{
 "cells": [
  {
   "cell_type": "markdown",
   "metadata": {},
   "source": [
    "# 예외처리"
   ]
  },
  {
   "cell_type": "code",
   "execution_count": 6,
   "metadata": {},
   "outputs": [
    {
     "ename": "ZeroDivisionError",
     "evalue": "division by zero",
     "output_type": "error",
     "traceback": [
      "\u001b[1;31m---------------------------------------------------------------------------\u001b[0m",
      "\u001b[1;31mZeroDivisionError\u001b[0m                         Traceback (most recent call last)",
      "Cell \u001b[1;32mIn[6], line 3\u001b[0m\n\u001b[0;32m      1\u001b[0m num1\u001b[38;5;241m=\u001b[39m\u001b[38;5;28mint\u001b[39m(\u001b[38;5;28minput\u001b[39m(\u001b[38;5;124m\"\u001b[39m\u001b[38;5;124m숫자를 입력해주세요\u001b[39m\u001b[38;5;124m\"\u001b[39m))\n\u001b[0;32m      2\u001b[0m num2\u001b[38;5;241m=\u001b[39m\u001b[38;5;28mint\u001b[39m(\u001b[38;5;28minput\u001b[39m(\u001b[38;5;124m\"\u001b[39m\u001b[38;5;124m숫자를 입력해주세요\u001b[39m\u001b[38;5;124m\"\u001b[39m))\n\u001b[1;32m----> 3\u001b[0m \u001b[43mnum1\u001b[49m\u001b[38;5;241;43m/\u001b[39;49m\u001b[43mnum2\u001b[49m\n",
      "\u001b[1;31mZeroDivisionError\u001b[0m: division by zero"
     ]
    }
   ],
   "source": [
    "num1=int(input(\"숫자를 입력해주세요\"))\n",
    "num2=int(input(\"숫자를 입력해주세요\"))\n",
    "num1/num2"
   ]
  },
  {
   "cell_type": "code",
   "execution_count": 7,
   "metadata": {},
   "outputs": [
    {
     "name": "stdout",
     "output_type": "stream",
     "text": [
      "0으로 숫자를 나눌수 없습니다\n"
     ]
    }
   ],
   "source": [
    "try:\n",
    "    num1=int(input(\"숫자를 입력해주세요\"))\n",
    "    num2=int(input(\"숫자를 입력해주세요\"))\n",
    "    print(num1/num2)\n",
    "except Exception:\n",
    "    print(\"0으로 숫자를 나눌수 없습니다\")"
   ]
  },
  {
   "cell_type": "code",
   "execution_count": null,
   "metadata": {},
   "outputs": [],
   "source": [
    "num1=int(input(\"숫자를 입력해주세요\"))\n",
    "num2=int(input(\"숫자를 입력해주세요\"))\n",
    "if num2==0:\n",
    "    print(\"0으로 숫자를 나눌수 없습니다\")\n",
    "else:\n",
    "    print(num1/num2)"
   ]
  },
  {
   "cell_type": "markdown",
   "metadata": {},
   "source": [
    "## 예외 만들기"
   ]
  },
  {
   "cell_type": "code",
   "execution_count": 8,
   "metadata": {},
   "outputs": [
    {
     "ename": "Minus",
     "evalue": "양수를 입력해주세오.",
     "output_type": "error",
     "traceback": [
      "\u001b[1;31m---------------------------------------------------------------------------\u001b[0m",
      "\u001b[1;31mMinus\u001b[0m                                     Traceback (most recent call last)",
      "Cell \u001b[1;32mIn[8], line 6\u001b[0m\n\u001b[0;32m      4\u001b[0m num\u001b[38;5;241m=\u001b[39m\u001b[38;5;28mint\u001b[39m(\u001b[38;5;28minput\u001b[39m(\u001b[38;5;124m\"\u001b[39m\u001b[38;5;124m양수를 입력해주세요\u001b[39m\u001b[38;5;124m\"\u001b[39m))\n\u001b[0;32m      5\u001b[0m \u001b[38;5;28;01mif\u001b[39;00m num\u001b[38;5;241m<\u001b[39m\u001b[38;5;241m1\u001b[39m:\n\u001b[1;32m----> 6\u001b[0m     \u001b[38;5;28;01mraise\u001b[39;00m Minus\n\u001b[0;32m      7\u001b[0m num\n",
      "\u001b[1;31mMinus\u001b[0m: 양수를 입력해주세오."
     ]
    }
   ],
   "source": [
    "class Minus(Exception):\n",
    "    def __init__(self):\n",
    "        super().__init__('양수를 입력해주세오.')\n",
    "num=int(input(\"양수를 입력해주세요\"))\n",
    "if num<1:\n",
    "    raise Minus\n",
    "num"
   ]
  },
  {
   "cell_type": "markdown",
   "metadata": {},
   "source": [
    "# 모듈"
   ]
  },
  {
   "cell_type": "markdown",
   "metadata": {},
   "source": [
    "## 모듈은 함수나 클래스등을 몽쳐놓은 것이다"
   ]
  },
  {
   "cell_type": "code",
   "execution_count": 14,
   "metadata": {},
   "outputs": [
    {
     "data": {
      "text/plain": [
       "6"
      ]
     },
     "execution_count": 14,
     "metadata": {},
     "output_type": "execute_result"
    }
   ],
   "source": [
    "#모듈의 사용법\n",
    "import random\n",
    "random.randint(0,10)#random.randint은 무작위 숫자를 가져오는 함수다"
   ]
  },
  {
   "cell_type": "code",
   "execution_count": 18,
   "metadata": {},
   "outputs": [
    {
     "data": {
      "text/plain": [
       "8"
      ]
     },
     "execution_count": 18,
     "metadata": {},
     "output_type": "execute_result"
    }
   ],
   "source": [
    "import random as rd\n",
    "rd.randint(0,10)"
   ]
  },
  {
   "cell_type": "code",
   "execution_count": 17,
   "metadata": {},
   "outputs": [
    {
     "data": {
      "text/plain": [
       "1"
      ]
     },
     "execution_count": 17,
     "metadata": {},
     "output_type": "execute_result"
    }
   ],
   "source": [
    "from random import randint\n",
    "randint(0,10)"
   ]
  },
  {
   "cell_type": "code",
   "execution_count": 18,
   "metadata": {},
   "outputs": [
    {
     "data": {
      "text/plain": [
       "8"
      ]
     },
     "execution_count": 18,
     "metadata": {},
     "output_type": "execute_result"
    }
   ],
   "source": [
    "from random import *\n",
    "randint(0,10)"
   ]
  },
  {
   "cell_type": "code",
   "execution_count": 20,
   "metadata": {},
   "outputs": [
    {
     "name": "stdout",
     "output_type": "stream",
     "text": [
      "Writing youngjin.py\n"
     ]
    }
   ],
   "source": [
    "%%writefile youngjin.py\n",
    "class Unit:\n",
    "    def __init__(self, name: str, hp: int, atk: int) -> None:\n",
    "        self.name = name\n",
    "        self.hp = hp\n",
    "        self.atk = atk\n",
    "\n",
    "    def dil(self, unit: 'Unit'):\n",
    "        print(f\"{self.name}(이)가 {unit.name}한테 피해를 입었다\")\n",
    "        self.hp -= unit.atk\n",
    "        if self.hp <= 0:\n",
    "            self.hp=0\n",
    "            print(f\"{self.name}은 쓰러졌다\")\n",
    "    @property\n",
    "    def isDie(self):\n",
    "        return self.hp==0\n",
    "def title():\n",
    "    return \"스타크래프트 2\""
   ]
  },
  {
   "cell_type": "code",
   "execution_count": 21,
   "metadata": {},
   "outputs": [],
   "source": [
    "import youngjin\n",
    "z=youngjin.Unit(\"광전사\",200,15)\n",
    "s=youngjin.Unit(\"추적자\",100,20)\n"
   ]
  },
  {
   "cell_type": "code",
   "execution_count": 22,
   "metadata": {},
   "outputs": [
    {
     "name": "stdout",
     "output_type": "stream",
     "text": [
      "광전사(이)가 추적자한테 피해를 입었다\n",
      "광전사(이)가 추적자한테 피해를 입었다\n",
      "광전사(이)가 추적자한테 피해를 입었다\n",
      "광전사(이)가 추적자한테 피해를 입었다\n",
      "광전사(이)가 추적자한테 피해를 입었다\n",
      "광전사(이)가 추적자한테 피해를 입었다\n",
      "광전사(이)가 추적자한테 피해를 입었다\n",
      "광전사(이)가 추적자한테 피해를 입었다\n",
      "광전사(이)가 추적자한테 피해를 입었다\n",
      "광전사(이)가 추적자한테 피해를 입었다\n",
      "광전사은 쓰러졌다\n"
     ]
    }
   ],
   "source": [
    "while not z.isDie:\n",
    "    z.dil(s)"
   ]
  },
  {
   "cell_type": "code",
   "execution_count": 23,
   "metadata": {},
   "outputs": [
    {
     "data": {
      "text/plain": [
       "'스타크래프트 2'"
      ]
     },
     "execution_count": 23,
     "metadata": {},
     "output_type": "execute_result"
    }
   ],
   "source": [
    "from youngjin import * \n",
    "title()"
   ]
  },
  {
   "cell_type": "code",
   "execution_count": 31,
   "metadata": {},
   "outputs": [
    {
     "name": "stdout",
     "output_type": "stream",
     "text": [
      "50는 제가 생각한 숫자보다 큽니다\n",
      "25는 제가 생각한 숫자보다 작습니다\n",
      "38는 제가 생각한 숫자보다 작습니다\n",
      "44는 제가 생각한 숫자보다 큽니다\n",
      "41는 제가 생각한 숫자보다 작습니다\n",
      "42는 제가 생각한 숫자보다 작습니다\n",
      "축하합니다 정답을 맞추셨습니다\n"
     ]
    }
   ],
   "source": [
    "import numpy as np\n",
    "result=np.random.randint(1,100)\n",
    "for i in range(10):\n",
    "    a=int(input(f\"{i+1}회차 숫자를 맞춰보세요(범위 : 1~100)\"))\n",
    "    if a==result:\n",
    "        print(\"축하합니다 정답을 맞추셨습니다\")\n",
    "        break\n",
    "    elif a<result:\n",
    "        print(f\"{a}는 제가 생각한 숫자보다 작습니다\")\n",
    "    elif a>result:\n",
    "        print(f\"{a}는 제가 생각한 숫자보다 큽니다\")\n",
    "if(a!=result):\n",
    "    print(f\"정답은 {result}였습니다\")"
   ]
  }
 ],
 "metadata": {
  "kernelspec": {
   "display_name": "Orange",
   "language": "python",
   "name": "python3"
  },
  "language_info": {
   "codemirror_mode": {
    "name": "ipython",
    "version": 3
   },
   "file_extension": ".py",
   "mimetype": "text/x-python",
   "name": "python",
   "nbconvert_exporter": "python",
   "pygments_lexer": "ipython3",
   "version": "3.11.9"
  }
 },
 "nbformat": 4,
 "nbformat_minor": 2
}
