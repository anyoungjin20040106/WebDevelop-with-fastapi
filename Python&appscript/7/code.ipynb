{
 "cells": [
  {
   "cell_type": "markdown",
   "metadata": {},
   "source": [
    "# 예외처리"
   ]
  },
  {
   "cell_type": "code",
   "execution_count": 14,
   "metadata": {},
   "outputs": [
    {
     "data": {
      "text/plain": [
       "1.0"
      ]
     },
     "execution_count": 14,
     "metadata": {},
     "output_type": "execute_result"
    }
   ],
   "source": [
    "num1=int(input(\"숫자를 입력해주세요\"))\n",
    "num2=int(input(\"숫자를 입력해주세요\"))\n",
    "num1/num2"
   ]
  },
  {
   "cell_type": "code",
   "execution_count": 15,
   "metadata": {},
   "outputs": [
    {
     "name": "stdout",
     "output_type": "stream",
     "text": [
      "1.0\n"
     ]
    }
   ],
   "source": [
    "try:\n",
    "    num1=int(input(\"숫자를 입력해주세요\"))\n",
    "    num2=int(input(\"숫자를 입력해주세요\"))\n",
    "    print(num1/num2)\n",
    "except ZeroDivisionError:\n",
    "    print(\"0으로 숫자를 나눌수 없습니다\")\n",
    "    "
   ]
  },
  {
   "cell_type": "markdown",
   "metadata": {},
   "source": [
    "## 예외 만들기"
   ]
  },
  {
   "cell_type": "code",
   "execution_count": 16,
   "metadata": {},
   "outputs": [
    {
     "data": {
      "text/plain": [
       "1"
      ]
     },
     "execution_count": 16,
     "metadata": {},
     "output_type": "execute_result"
    }
   ],
   "source": [
    "class Minus(Exception):\n",
    "    def __init__(self):\n",
    "        super().__init__('양수를 입력해주세오.') \n",
    "num=int(input(\"양수를 입력해주세요\"))\n",
    "if num<1:\n",
    "    raise Minus\n",
    "num"
   ]
  },
  {
   "cell_type": "markdown",
   "metadata": {},
   "source": [
    "# 모듈"
   ]
  },
  {
   "cell_type": "markdown",
   "metadata": {},
   "source": [
    "## 모듈은 함수나 클래스등을 몽쳐놓은 것이다"
   ]
  },
  {
   "cell_type": "code",
   "execution_count": 17,
   "metadata": {},
   "outputs": [
    {
     "data": {
      "text/plain": [
       "6"
      ]
     },
     "execution_count": 17,
     "metadata": {},
     "output_type": "execute_result"
    }
   ],
   "source": [
    "#모듈의 사용법\n",
    "import random\n",
    "random.randint(0,10)#random.randint은 무작위 숫자를 가져오는 함수다"
   ]
  },
  {
   "cell_type": "code",
   "execution_count": 18,
   "metadata": {},
   "outputs": [
    {
     "data": {
      "text/plain": [
       "8"
      ]
     },
     "execution_count": 18,
     "metadata": {},
     "output_type": "execute_result"
    }
   ],
   "source": [
    "import random as rd\n",
    "rd.randint(0,10)"
   ]
  },
  {
   "cell_type": "code",
   "execution_count": 19,
   "metadata": {},
   "outputs": [
    {
     "data": {
      "text/plain": [
       "6"
      ]
     },
     "execution_count": 19,
     "metadata": {},
     "output_type": "execute_result"
    }
   ],
   "source": [
    "from random import randint\n",
    "randint(0,10)"
   ]
  },
  {
   "cell_type": "code",
   "execution_count": 20,
   "metadata": {},
   "outputs": [
    {
     "data": {
      "text/plain": [
       "0"
      ]
     },
     "execution_count": 20,
     "metadata": {},
     "output_type": "execute_result"
    }
   ],
   "source": [
    "from random import *\n",
    "randint(0,10)"
   ]
  },
  {
   "cell_type": "code",
   "execution_count": 1,
   "metadata": {},
   "outputs": [
    {
     "name": "stdout",
     "output_type": "stream",
     "text": [
      "Overwriting youngjin.py\n"
     ]
    }
   ],
   "source": [
    "%%writefile youngjin.py\n",
    "class Unit:\n",
    "    def __init__(self, name: str, hp: int, atk: int) -> None:\n",
    "        self.name = name\n",
    "        self.hp = hp\n",
    "        self.atk = atk\n",
    "\n",
    "    def dil(self, unit: 'Unit'):\n",
    "        print(f\"{self.name}(이)가 {unit.name}한테 피해를 입었다\")\n",
    "        self.hp -= unit.atk\n",
    "        if self.hp <= 0:\n",
    "            self.hp=0\n",
    "            print(f\"{self.name}은 쓰러졌다\")\n",
    "    @property\n",
    "    def isDie(self):\n",
    "        return self.hp==0\n",
    "def title():\n",
    "    return \"스타크래프트 2\""
   ]
  },
  {
   "cell_type": "code",
   "execution_count": 2,
   "metadata": {},
   "outputs": [],
   "source": [
    "import youngjin\n",
    "z=youngjin.Unit(\"광전사\",200,15)\n",
    "s=youngjin.Unit(\"추적자\",100,20)\n"
   ]
  },
  {
   "cell_type": "code",
   "execution_count": 3,
   "metadata": {},
   "outputs": [
    {
     "name": "stdout",
     "output_type": "stream",
     "text": [
      "광전사(이)가 추적자한테 피해를 입었다\n",
      "광전사(이)가 추적자한테 피해를 입었다\n",
      "광전사(이)가 추적자한테 피해를 입었다\n",
      "광전사(이)가 추적자한테 피해를 입었다\n",
      "광전사(이)가 추적자한테 피해를 입었다\n",
      "광전사(이)가 추적자한테 피해를 입었다\n",
      "광전사(이)가 추적자한테 피해를 입었다\n",
      "광전사(이)가 추적자한테 피해를 입었다\n",
      "광전사(이)가 추적자한테 피해를 입었다\n",
      "광전사(이)가 추적자한테 피해를 입었다\n",
      "광전사은 쓰러졌다\n"
     ]
    }
   ],
   "source": [
    "while not z.isDie:\n",
    "    z.dil(s)"
   ]
  },
  {
   "cell_type": "code",
   "execution_count": 4,
   "metadata": {},
   "outputs": [
    {
     "data": {
      "text/plain": [
       "'스타크래프트 2'"
      ]
     },
     "execution_count": 4,
     "metadata": {},
     "output_type": "execute_result"
    }
   ],
   "source": [
    "from youngjin import * \n",
    "title()"
   ]
  }
 ],
 "metadata": {
  "kernelspec": {
   "display_name": "Orange",
   "language": "python",
   "name": "python3"
  },
  "language_info": {
   "codemirror_mode": {
    "name": "ipython",
    "version": 3
   },
   "file_extension": ".py",
   "mimetype": "text/x-python",
   "name": "python",
   "nbconvert_exporter": "python",
   "pygments_lexer": "ipython3",
   "version": "3.11.9"
  }
 },
 "nbformat": 4,
 "nbformat_minor": 2
}
