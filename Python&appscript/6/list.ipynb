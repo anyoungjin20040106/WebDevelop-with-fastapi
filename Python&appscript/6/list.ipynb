{
 "cells": [
  {
   "cell_type": "markdown",
   "metadata": {},
   "source": [
    "# 리스트"
   ]
  },
  {
   "cell_type": "code",
   "execution_count": 38,
   "metadata": {},
   "outputs": [
    {
     "data": {
      "text/plain": [
       "[1, True, '안녕', [1, 2, 3], 이름 : 안영진,나이 : 21]"
      ]
     },
     "execution_count": 38,
     "metadata": {},
     "output_type": "execute_result"
    }
   ],
   "source": [
    "class Person:\n",
    "    def __init__(self,name,age) -> None:\n",
    "        self.name=name\n",
    "        self.age=age\n",
    "    def __repr__(self) -> str:#__repr__은 출력메소드\n",
    "        return f\"이름 : {self.name},나이 : {self.age}\"\n",
    "[1,True,\"안녕\",[1,2,3],Person(\"안영진\",21)]"
   ]
  },
  {
   "cell_type": "markdown",
   "metadata": {},
   "source": [
    "## 리스트 길이 구하기"
   ]
  },
  {
   "cell_type": "code",
   "execution_count": 4,
   "metadata": {},
   "outputs": [
    {
     "data": {
      "text/plain": [
       "9"
      ]
     },
     "execution_count": 4,
     "metadata": {},
     "output_type": "execute_result"
    }
   ],
   "source": [
    "len([1,2,3,4,5,6,7,8,9])"
   ]
  },
  {
   "cell_type": "markdown",
   "metadata": {},
   "source": [
    "## 인덱싱"
   ]
  },
  {
   "cell_type": "code",
   "execution_count": 5,
   "metadata": {},
   "outputs": [
    {
     "name": "stdout",
     "output_type": "stream",
     "text": [
      "1\n",
      "2\n",
      "3\n",
      "4\n",
      "5\n",
      "6\n",
      "7\n",
      "8\n"
     ]
    },
    {
     "data": {
      "text/plain": [
       "1"
      ]
     },
     "execution_count": 5,
     "metadata": {},
     "output_type": "execute_result"
    }
   ],
   "source": [
    "arr=[1,2,3,4,5,6,7,8]\n",
    "count=0\n",
    "while count<len(arr):\n",
    "    print(arr[count])# 0부터 시작한다\n",
    "    count+=1\n",
    "arr[0]"
   ]
  },
  {
   "cell_type": "code",
   "execution_count": 6,
   "metadata": {},
   "outputs": [
    {
     "data": {
      "text/plain": [
       "7"
      ]
     },
     "execution_count": 6,
     "metadata": {},
     "output_type": "execute_result"
    }
   ],
   "source": [
    "[1,2,3,4,5,6,7,8][-2]"
   ]
  },
  {
   "cell_type": "code",
   "execution_count": 42,
   "metadata": {},
   "outputs": [
    {
     "data": {
      "text/plain": [
       "1"
      ]
     },
     "execution_count": 42,
     "metadata": {},
     "output_type": "execute_result"
    }
   ],
   "source": [
    "[1,2,3,4,5,6,7,8][-0]"
   ]
  },
  {
   "cell_type": "markdown",
   "metadata": {},
   "source": [
    "## append"
   ]
  },
  {
   "cell_type": "code",
   "execution_count": 9,
   "metadata": {},
   "outputs": [
    {
     "data": {
      "text/plain": [
       "[10, 20, 30, 40, 50, 60, 70, 80, 90, 100]"
      ]
     },
     "execution_count": 9,
     "metadata": {},
     "output_type": "execute_result"
    }
   ],
   "source": [
    "arr=[]\n",
    "count=1\n",
    "while count<=10:\n",
    "    arr.append(count*10)\n",
    "    count+=1\n",
    "arr"
   ]
  },
  {
   "cell_type": "markdown",
   "metadata": {},
   "source": [
    "## pop"
   ]
  },
  {
   "cell_type": "code",
   "execution_count": 44,
   "metadata": {},
   "outputs": [
    {
     "name": "stdout",
     "output_type": "stream",
     "text": [
      "3\n"
     ]
    },
    {
     "data": {
      "text/plain": [
       "[1, 2, 4, 5]"
      ]
     },
     "execution_count": 44,
     "metadata": {},
     "output_type": "execute_result"
    }
   ],
   "source": [
    "arr=[1,2,3,4,5]\n",
    "print(arr.pop(2))\n",
    "arr"
   ]
  },
  {
   "cell_type": "markdown",
   "metadata": {},
   "source": [
    "# 슬라이싱"
   ]
  },
  {
   "cell_type": "code",
   "execution_count": 10,
   "metadata": {},
   "outputs": [
    {
     "name": "stdout",
     "output_type": "stream",
     "text": [
      "[3, 4]\n"
     ]
    }
   ],
   "source": [
    "arr=[1,2,3,4,5]\n",
    "print(arr[2:4])"
   ]
  },
  {
   "cell_type": "markdown",
   "metadata": {},
   "source": [
    "# 문자열과 리스트의 관계"
   ]
  },
  {
   "cell_type": "code",
   "execution_count": 46,
   "metadata": {},
   "outputs": [
    {
     "name": "stdout",
     "output_type": "stream",
     "text": [
      "['안', '녕', '하', '세', '요']\n"
     ]
    }
   ],
   "source": [
    "print(list(\"안녕하세요\"))"
   ]
  },
  {
   "cell_type": "markdown",
   "metadata": {},
   "source": [
    "## 리스트의 연산자"
   ]
  },
  {
   "cell_type": "code",
   "execution_count": 11,
   "metadata": {},
   "outputs": [
    {
     "name": "stdout",
     "output_type": "stream",
     "text": [
      "[1, 2, 3, 4, 5, 6, 7, 8]\n",
      "[1, 2, 3, 4, 1, 2, 3, 4, 1, 2, 3, 4, 1, 2, 3, 4]\n"
     ]
    }
   ],
   "source": [
    "print([1,2,3,4]+[5,6,7,8])\n",
    "print([1,2,3,4]*4)"
   ]
  },
  {
   "cell_type": "markdown",
   "metadata": {},
   "source": [
    "# 리스트 요소 중복 없애기"
   ]
  },
  {
   "cell_type": "code",
   "execution_count": 13,
   "metadata": {},
   "outputs": [
    {
     "data": {
      "text/plain": [
       "[1, 2, 3, 4, 5]"
      ]
     },
     "execution_count": 13,
     "metadata": {},
     "output_type": "execute_result"
    }
   ],
   "source": [
    "list(set([1,2,3,4,4,4,4,5]))"
   ]
  },
  {
   "cell_type": "markdown",
   "metadata": {},
   "source": [
    "# Range"
   ]
  },
  {
   "cell_type": "code",
   "execution_count": 15,
   "metadata": {},
   "outputs": [
    {
     "name": "stdout",
     "output_type": "stream",
     "text": [
      "range(0, 10)\n",
      "[0, 1, 2, 3, 4, 5, 6, 7, 8, 9]\n",
      "[1, 2, 3, 4, 5, 6, 7, 8, 9]\n",
      "[1, 3, 5, 7, 9]\n"
     ]
    }
   ],
   "source": [
    "print(range(10))\n",
    "print(list(range(10)))\n",
    "print(list(range(1,10)))\n",
    "print(list(range(1,10,2)))"
   ]
  },
  {
   "cell_type": "markdown",
   "metadata": {},
   "source": [
    "## for문"
   ]
  },
  {
   "cell_type": "code",
   "execution_count": 17,
   "metadata": {},
   "outputs": [
    {
     "name": "stdout",
     "output_type": "stream",
     "text": [
      "[10, 8, 6, 4]\n",
      "10\n",
      "8\n",
      "6\n",
      "4\n"
     ]
    }
   ],
   "source": [
    "arr=list(range(10,2,-2))\n",
    "print(arr)\n",
    "for i in arr:\n",
    "    print(i)"
   ]
  },
  {
   "cell_type": "markdown",
   "metadata": {},
   "source": [
    "# 리스트 안에 for문 넣기"
   ]
  },
  {
   "cell_type": "code",
   "execution_count": 18,
   "metadata": {},
   "outputs": [
    {
     "data": {
      "text/plain": [
       "[1, 4, 9, 16, 25, 36, 49, 64, 81, 100]"
      ]
     },
     "execution_count": 18,
     "metadata": {},
     "output_type": "execute_result"
    }
   ],
   "source": [
    "[i**2 for i in range(1,11)]"
   ]
  },
  {
   "cell_type": "markdown",
   "metadata": {},
   "source": [
    "# 리스트의 특정요소만 꺼내기"
   ]
  },
  {
   "cell_type": "code",
   "execution_count": 19,
   "metadata": {},
   "outputs": [
    {
     "data": {
      "text/plain": [
       "[2, 4, 6, 8, 10]"
      ]
     },
     "execution_count": 19,
     "metadata": {},
     "output_type": "execute_result"
    }
   ],
   "source": [
    "arr=[1,2,3,4,5,6,7,8,9,10]\n",
    "result=[]\n",
    "for i in arr:\n",
    "    if i%2==0:\n",
    "        result.append(i)\n",
    "result"
   ]
  },
  {
   "cell_type": "code",
   "execution_count": 23,
   "metadata": {},
   "outputs": [
    {
     "data": {
      "text/plain": [
       "[0, 2, 4, 6, 8]"
      ]
     },
     "execution_count": 23,
     "metadata": {},
     "output_type": "execute_result"
    }
   ],
   "source": [
    "def isEven(num):\n",
    "    return (num%2==0)#0은 Fasle 그외 숫자는 True\n",
    "arr=list(range(10))\n",
    "list(filter(isEven,arr))"
   ]
  },
  {
   "cell_type": "markdown",
   "metadata": {},
   "source": [
    "# 리스트 요소의 제곱을 넣기"
   ]
  },
  {
   "cell_type": "code",
   "execution_count": 24,
   "metadata": {},
   "outputs": [
    {
     "data": {
      "text/plain": [
       "[1, 2, 3, 4, 5, 6, 7, 8, 9, 10]"
      ]
     },
     "execution_count": 24,
     "metadata": {},
     "output_type": "execute_result"
    }
   ],
   "source": [
    "arr=list(range(10))\n",
    "result=[]\n",
    "for i in arr:\n",
    "    result.append(i+1)\n",
    "result"
   ]
  },
  {
   "cell_type": "code",
   "execution_count": 53,
   "metadata": {},
   "outputs": [
    {
     "data": {
      "text/plain": [
       "[1, 2, 3, 4, 5, 6, 7, 8, 9, 10]"
      ]
     },
     "execution_count": 53,
     "metadata": {},
     "output_type": "execute_result"
    }
   ],
   "source": [
    "def addone(num):\n",
    "    return num+1\n",
    "list(map(addone,range(10)))"
   ]
  },
  {
   "cell_type": "markdown",
   "metadata": {},
   "source": [
    "# 리스트를 활용한 함수"
   ]
  },
  {
   "cell_type": "markdown",
   "metadata": {},
   "source": [
    "## 숫자변경 함수"
   ]
  },
  {
   "cell_type": "code",
   "execution_count": 25,
   "metadata": {},
   "outputs": [
    {
     "data": {
      "text/plain": [
       "[20, 10]"
      ]
     },
     "execution_count": 25,
     "metadata": {},
     "output_type": "execute_result"
    }
   ],
   "source": [
    "def Swap(num1,num2):\n",
    "    return [num2,num1]\n",
    "num1=10\n",
    "num2=20\n",
    "num1,num2=Swap(num1,num2)\n",
    "[num1,num2]"
   ]
  },
  {
   "cell_type": "markdown",
   "metadata": {},
   "source": [
    "## 양수 음수로 만들어 주는 함수"
   ]
  },
  {
   "cell_type": "code",
   "execution_count": 55,
   "metadata": {},
   "outputs": [
    {
     "data": {
      "text/plain": [
       "[-1, 1]"
      ]
     },
     "execution_count": 55,
     "metadata": {},
     "output_type": "execute_result"
    }
   ],
   "source": [
    "def GetNums(num):\n",
    "    result=[-num,num]\n",
    "    result.sort()#sort는 숫자를 정렬시켜주는 메서드\n",
    "    return result\n",
    "GetNums(1)"
   ]
  },
  {
   "cell_type": "markdown",
   "metadata": {},
   "source": [
    "# 딕셔너리\n",
    "<img src=\"https://wikidocs.net/images/page/16/02_5_baseball.png\"><br>\n",
    "<p>딕셔너리는 한국말로 사전이라는 뜻을 가졌다. key와 value로 이루어져 있고 key는 중복이 되면 안된다</p>"
   ]
  },
  {
   "cell_type": "code",
   "execution_count": 30,
   "metadata": {},
   "outputs": [
    {
     "data": {
      "text/plain": [
       "'안영진'"
      ]
     },
     "execution_count": 30,
     "metadata": {},
     "output_type": "execute_result"
    }
   ],
   "source": [
    "youngjin={\n",
    "    \"이름\":\"안영진\",\n",
    "    \"나이\":21,\n",
    "    \"성별\":\"남자\"\n",
    "}\n",
    "\n",
    "youngjin['이름']"
   ]
  },
  {
   "cell_type": "markdown",
   "metadata": {},
   "source": [
    "## 딕셔너리와 for문"
   ]
  },
  {
   "cell_type": "code",
   "execution_count": 31,
   "metadata": {},
   "outputs": [
    {
     "name": "stdout",
     "output_type": "stream",
     "text": [
      "이름\n",
      "보유기술\n",
      "****************************************************************************************************\n",
      "이름 : 안영진\n",
      "보유기술 : ['C#', 'golang', 'Python']\n"
     ]
    }
   ],
   "source": [
    "data={\n",
    "    \"이름\":\"안영진\",\n",
    "    \"보유기술\":[\"C#\",\"golang\",\"Python\"],\n",
    "}\n",
    "for i in data:\n",
    "    print(i)\n",
    "print(\"*\"*100)\n",
    "for i in data:\n",
    "    print(f\"{i} : {data[i]}\")"
   ]
  },
  {
   "cell_type": "markdown",
   "metadata": {},
   "source": [
    "## zip"
   ]
  },
  {
   "cell_type": "code",
   "execution_count": 32,
   "metadata": {},
   "outputs": [
    {
     "name": "stdout",
     "output_type": "stream",
     "text": [
      "딕셔너리 : {'C#': 'unity', 'Python': ['pandas', 'numpy', 'Fastapi'], 'golang': 'gin'}\n",
      "리스트 : [('C#', 'unity'), ('Python', ['pandas', 'numpy', 'Fastapi']), ('golang', 'gin')]\n"
     ]
    }
   ],
   "source": [
    "name=['C#','Python',\"golang\"]\n",
    "framwork=['unity',['pandas','numpy','Fastapi'],'gin']\n",
    "print(f\"딕셔너리 : {dict(zip(name,framwork))}\")\n",
    "print(f\"리스트 : {list(zip(name,framwork))}\")"
   ]
  },
  {
   "cell_type": "markdown",
   "metadata": {},
   "source": [
    "# 쿼리파라미터 분석기 만들기"
   ]
  },
  {
   "cell_type": "code",
   "execution_count": 37,
   "metadata": {},
   "outputs": [
    {
     "data": {
      "text/plain": [
       "['1', '2', '1', '1,23']"
      ]
     },
     "execution_count": 37,
     "metadata": {},
     "output_type": "execute_result"
    }
   ],
   "source": [
    "\"1:2:1:1,23\".split(':')"
   ]
  },
  {
   "cell_type": "code",
   "execution_count": 38,
   "metadata": {},
   "outputs": [
    {
     "data": {
      "text/plain": [
       "{'q': 'unity',\n",
       " 'client': 'opera-gx',\n",
       " 'sca_esv': 'dbe8e14eae919cff',\n",
       " 'udm': '2',\n",
       " 'biw': '1666',\n",
       " 'bih': '915',\n",
       " 'sxsrf': 'ADLYWIIG0eQ_ElxaYTAqcybSEj1aiCN0Eg%3A1725780065765',\n",
       " 'ei': 'YVDdZrGzLv3Q1e8Px9SykAk',\n",
       " 'ved': '0ahUKEwjx557e57KIAxV9aPUHHUeqDJIQ4dUDCBA',\n",
       " 'oq': 'ㅕㅜㅑ쇼',\n",
       " 'gs_lp': 'Egxnd3Mtd2l6LXNlcnAiDOOFleOFnOOFkeyHvDIIEAAYgAQYsQMyBRAAGIAEMgUQABiABDIFEAAYgAQyBRAAGIAEMgUQABiABDIFEAAYgAQyBRAAGIAEMgUQABiABDIFEAAYgARIzQpQAFgAcAB4AJABAJgBZ6ABZ6oBAzAuMbgBDMgBAJgCAaACb5gDAOIDBRIBMSBAiAYBkgcDMC4xoAerBA',\n",
       " 'sclient': 'gws-wiz-serp'}"
      ]
     },
     "execution_count": 38,
     "metadata": {},
     "output_type": "execute_result"
    }
   ],
   "source": [
    "url=input(\"URL을 입력해주세요\")\n",
    "if len(url.split(\"?\"))>1:\n",
    "    qurey=url.split(\"?\")[1]#split는 해당 글자를 기준으로 나누어서 리스트로 만드는 문자열 메서드\n",
    "    result={}\n",
    "    for i in qurey.split(\"&\"):\n",
    "        key,value=i.split(\"=\")\n",
    "        result[key]=value\n",
    "else:\n",
    "    result=\"쿼리 파리미터가 존재하지 않습니다\"\n",
    "result\n",
    "        "
   ]
  },
  {
   "cell_type": "markdown",
   "metadata": {},
   "source": [
    "# 공백은 몇개?"
   ]
  },
  {
   "cell_type": "code",
   "execution_count": 58,
   "metadata": {},
   "outputs": [],
   "source": [
    "gasa=\"\"\"The snow glows white on the mountain tonight\n",
    "Not a footprint to be seen\n",
    "A kingdom of isolation\n",
    "And it looks like I'm the queen\n",
    "The wind is howling like this swirling storm inside\n",
    "Couldn't keep it in, heaven knows I tried\n",
    "Don't let them in, don't let them see\n",
    "Be the good girl you always have to be\n",
    "Conceal, don't feel, don't let them know\n",
    "Well, now they know\n",
    "Let it go, let it go\n",
    "Can't hold it back anymore\n",
    "Let it go, let it go\n",
    "Turn away and slam the door\n",
    "I don't care what they're going to say\n",
    "Let the storm rage on\n",
    "The cold never bothered me anyway\n",
    "It's funny how some distance makes everything seem small\n",
    "And the fears that once controlled me can't get to me at all\n",
    "It's time to see what I can do\n",
    "To test the limits and break through\n",
    "No right, no wrong, no rules for me\n",
    "I'm free\n",
    "Let it go, let it go\n",
    "I am one with the wind and sky\n",
    "Let it go, let it go\n",
    "You'll never see me cry\n",
    "Here I stand and here I stay\n",
    "Let the storm rage on\n",
    "My power flurries through the air into the ground\n",
    "My soul is spiraling in frozen fractals all around\n",
    "And one thought crystallizes like an icy blast\n",
    "I'm never going back, the past is in the past\n",
    "Let it go, let it go\n",
    "And I'll rise like the break of dawn\n",
    "Let it go, let it go\n",
    "That perfect girl is gone\n",
    "Here I stand in the light of day\n",
    "Let the storm rage on\n",
    "The cold never bothered me anyway\"\"\""
   ]
  }
 ],
 "metadata": {
  "kernelspec": {
   "display_name": "Python 3",
   "language": "python",
   "name": "python3"
  },
  "language_info": {
   "codemirror_mode": {
    "name": "ipython",
    "version": 3
   },
   "file_extension": ".py",
   "mimetype": "text/x-python",
   "name": "python",
   "nbconvert_exporter": "python",
   "pygments_lexer": "ipython3",
   "version": "3.11.9"
  }
 },
 "nbformat": 4,
 "nbformat_minor": 2
}
